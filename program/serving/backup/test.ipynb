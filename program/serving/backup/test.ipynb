{
 "cells": [
  {
   "cell_type": "code",
   "execution_count": 2,
   "metadata": {},
   "outputs": [
    {
     "name": "stdout",
     "output_type": "stream",
     "text": [
      "{'bedrooms': 3, 'bathrooms': 1, 'sqft_living': 1180, 'waterfront': 0, 'view': 0, 'grade': 7, 'sqft_living15': 1340}\n"
     ]
    }
   ],
   "source": [
    "event = {\n",
    "  \"method\": \"POST\",\n",
    "  \"headers\": {\n",
    "      \"Content-Type\": \"application/json\"\n",
    "  },\n",
    "  \"body\": {\n",
    "    \"bedrooms\": 3,\n",
    "    \"bathrooms\": 1,\n",
    "    \"sqft_living\": 1180,\n",
    "    \"waterfront\": 0,\n",
    "    \"view\": 0,\n",
    "    \"grade\": 7,\n",
    "    \"sqft_living15\": 1340\n",
    "  },\n",
    "  \"redirect\": \"follow\"\n",
    "}\n",
    "\n",
    "data = event['body']\n",
    "\n",
    "print(data)"
   ]
  },
  {
   "cell_type": "code",
   "execution_count": null,
   "metadata": {},
   "outputs": [],
   "source": []
  }
 ],
 "metadata": {
  "kernelspec": {
   "display_name": ".venv",
   "language": "python",
   "name": "python3"
  },
  "language_info": {
   "codemirror_mode": {
    "name": "ipython",
    "version": 3
   },
   "file_extension": ".py",
   "mimetype": "text/x-python",
   "name": "python",
   "nbconvert_exporter": "python",
   "pygments_lexer": "ipython3",
   "version": "3.10.2"
  }
 },
 "nbformat": 4,
 "nbformat_minor": 2
}
